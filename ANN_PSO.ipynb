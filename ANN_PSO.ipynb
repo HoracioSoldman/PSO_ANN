{
  "nbformat": 4,
  "nbformat_minor": 0,
  "metadata": {
    "colab": {
      "name": "ANN--PSO.ipynb",
      "provenance": [],
      "collapsed_sections": [],
      "toc_visible": true,
      "include_colab_link": true
    },
    "kernelspec": {
      "display_name": "Python 3",
      "language": "python",
      "name": "python3"
    },
    "language_info": {
      "codemirror_mode": {
        "name": "ipython",
        "version": 3
      },
      "file_extension": ".py",
      "mimetype": "text/x-python",
      "name": "python",
      "nbconvert_exporter": "python",
      "pygments_lexer": "ipython3",
      "version": "3.7.4"
    }
  },
  "cells": [
    {
      "cell_type": "markdown",
      "metadata": {
        "id": "view-in-github",
        "colab_type": "text"
      },
      "source": [
        "<a href=\"https://colab.research.google.com/github/HoracioSoldman/PSO_ANN/blob/main/ANN_PSO.ipynb\" target=\"_parent\"><img src=\"https://colab.research.google.com/assets/colab-badge.svg\" alt=\"Open In Colab\"/></a>"
      ]
    },
    {
      "cell_type": "markdown",
      "metadata": {
        "id": "5sr48MHn1hzq"
      },
      "source": [
        "### Importing libraries"
      ]
    },
    {
      "cell_type": "code",
      "metadata": {
        "id": "iWLlhkcB1m8x"
      },
      "source": [
        "import numpy as np\n",
        "import random\n",
        "import matplotlib.pyplot as plt"
      ],
      "execution_count": 1,
      "outputs": []
    },
    {
      "cell_type": "markdown",
      "metadata": {
        "id": "fbHq3o_bDCfp"
      },
      "source": [
        "### Network initialization"
      ]
    },
    {
      "cell_type": "code",
      "metadata": {
        "colab": {
          "base_uri": "https://localhost:8080/"
        },
        "id": "5QEQDIfUExUi",
        "outputId": "120b3e7b-b6b2-40d3-e76d-71864606d48f"
      },
      "source": [
        "#Network skeleton\n",
        "network_config= {\n",
        "    'inputs': 2,\n",
        "    'hidden': {'layers': 5, 'neurons': 3},\n",
        "    'outputs': 1\n",
        "\t}\n",
        "\n",
        "#Loading data\n",
        "function_name = \"Sine\"\n",
        "f = open(\"./2in_complex.txt\", 'r')\n",
        "file_content = f.readlines()\n",
        "f.close()\n",
        "\n",
        "X = []\n",
        "Y = []\n",
        "pso_particles = []\n",
        "\n",
        "for file_line in file_content:\n",
        "\tsingle_line = file_line.strip()\n",
        "\t#For some files the values are separated by tabulation (\\t)\n",
        "\tvalues = np.array(single_line.split('\\t'))\n",
        "\t#For some others the values are separated by empty space (\" \")\n",
        "\tif len(values) == 1:\n",
        "\t\tvalues = np.array(single_line.split(' '))\n",
        "\tX.append(list(values[0:-1]))\n",
        "\tY.append(list(values[-1:]))\n",
        "\n",
        "print(X)\n",
        "print(Y)"
      ],
      "execution_count": 2,
      "outputs": [
        {
          "output_type": "stream",
          "text": [
            "[['0.6771', '-0.4831'], ['-0.9142', '-0.9882'], ['0.1488', '0.4878'], ['0.6137', '0.2751'], ['-0.4975', '-0.7114'], ['0.3031', '0.8922'], ['0.6318', '0.8605'], ['-0.3801', '-0.4624'], ['0.0729', '-0.6734'], ['-0.578', '-0.5664'], ['0.3036', '-0.8944'], ['-0.5414', '0.3349'], ['-0.3781', '-0.3867'], ['0.4414', '0.9088'], ['-0.7377', '-0.8634'], ['-0.7495', '-0.6677'], ['0.8228', '-0.7275'], ['0.234', '-0.462'], ['-0.5587', '0.4258'], ['0.098', '0.8827'], ['-0.3403', '0.409'], ['0.8869', '0.1632'], ['0.7603', '0.4992'], ['-0.2408', '0.4511'], ['-0.6744', '0.9124'], ['-0.6075', '0.5524'], ['0.2266', '-0.6754'], ['-0.9379', '-0.4227'], ['0.9421', '0.901'], ['-0.5439', '0.9171'], ['0.3597', '-0.8901'], ['0.1997', '-0.2137'], ['-0.5693', '-0.6352'], ['-0.8465', '-0.9852'], ['0.5776', '-0.9644'], ['0.7559', '-0.2949'], ['0.4443', '0.9369'], ['-0.6887', '-0.6741'], ['-0.3732', '-0.9412'], ['-0.2847', '-0.9456'], ['0.5873', '0.9985'], ['-0.7795', '0.2452'], ['-0.7349', '-0.3799'], ['-0.7304', '-0.5533'], ['-0.2069', '-0.7297'], ['-0.5179', '0.855'], ['-0.2178', '0.0225'], ['-0.8142', '-0.9566'], ['-0.6809', '0.689'], ['0.7583', '-0.626'], ['0.9826', '0.4241'], ['0.7427', '-0.0407'], ['-0.008', '-0.4249'], ['-0.8781', '-0.4751'], ['-0.6275', '0.8342'], ['-0.7534', '-0.9731'], ['-0.2606', '0.3973'], ['0.7787', '0.1875'], ['-0.6866', '-0.3666'], ['-0.5332', '-0.9832'], ['-0.2062', '0.2997'], ['-0.83', '0.5376'], ['0.9394', '0.4296'], ['0.5639', '-0.5249'], ['-0.6085', '-0.4736'], ['0.4276', '0.9552'], ['0.2742', '0.0918'], ['0.6961', '0.6042'], ['0.3366', '0.342'], ['0.6413', '0.9409'], ['-0.0262', '0.6349'], ['0.2831', '-0.3873'], ['0.3219', '-0.284'], ['0.8764', '-0.0247'], ['-0.818', '0.3477'], ['0.0298', '-0.5568'], ['0.45', '-0.8635'], ['0.9282', '-0.5847'], ['-0.6778', '0.2764'], ['-0.9995', '-0.3287'], ['-0.4498', '-0.9109'], ['-0.8122', '-0.18'], ['0.6338', '0.741'], ['-0.9549', '0.4544'], ['0.696', '0.4572'], ['0.9102', '0.3127'], ['0.4846', '-0.3101'], ['0.768', '-0.3055'], ['-0.881', '0.4368'], ['0.9164', '-0.6863'], ['-0.1673', '-0.8119'], ['-0.1001', '0.7383'], ['-0.2168', '-0.4944'], ['-0.2912', '0.486'], ['0.3017', '0.8796'], ['0.6656', '-0.06'], ['0.2597', '-0.8836'], ['0.0844', '-0.0885'], ['0.7262', '0.7104'], ['-0.0555', '0.5738']]\n",
            "[['0.4624'], ['-0.24'], ['-0.2242'], ['-0.5741'], ['0.3295'], ['-0.2155'], ['-0.1534'], ['0.2938'], ['-0.1801'], ['0.3139'], ['-0.2072'], ['-0.588'], ['0.2145'], ['-0.1869'], ['-0.1405'], ['-0.1127'], ['0.7635'], ['-0.2176'], ['-0.5483'], ['-0.2165'], ['-0.5388'], ['-0.8916'], ['-0.7081'], ['-0.4481'], ['-0.1563'], ['-0.43'], ['-0.2186'], ['-0.5762'], ['-0.0101'], ['-0.1072'], ['-0.1866'], ['-0.2205'], ['0.3212'], ['-0.2337'], ['-0.1505'], ['0.2991'], ['-0.1787'], ['0.0658'], ['-0.0818'], ['-0.1143'], ['-0.0752'], ['-0.2282'], ['-0.1008'], ['-0.0484'], ['0.0945'], ['-0.1598'], ['-0.3383'], ['-0.2395'], ['-0.2825'], ['0.735'], ['-0.8993'], ['-0.3717'], ['-0.1295'], ['-0.4939'], ['-0.1902'], ['-0.2091'], ['-0.4835'], ['-0.8107'], ['-0.0007'], ['-0.1781'], ['-0.449'], ['-0.1509'], ['-0.9266'], ['0.1974'], ['0.2264'], ['-0.1806'], ['-0.2277'], ['-0.4922'], ['-0.2558'], ['-0.0754'], ['-0.2574'], ['-0.2051'], ['-0.1979'], ['-0.4657'], ['-0.1473'], ['-0.147'], ['-0.1161'], ['1'], ['-0.4297'], ['-0.5174'], ['0.0004'], ['-0.2419'], ['-0.2804'], ['0.0287'], ['-0.6571'], ['-1'], ['-0.0704'], ['0.344'], ['-0.0454'], ['0.9318'], ['-0.0113'], ['-0.2424'], ['0.1311'], ['-0.4673'], ['-0.2163'], ['-0.3008'], ['-0.2158'], ['-0.2219'], ['-0.3553'], ['-0.2833']]\n"
          ],
          "name": "stdout"
        }
      ]
    },
    {
      "cell_type": "markdown",
      "metadata": {
        "id": "8pH9TQ_u5goH"
      },
      "source": [
        "### Activation functions"
      ]
    },
    {
      "cell_type": "code",
      "metadata": {
        "id": "n-E3CsRr18fl"
      },
      "source": [
        "#Sigmoid function, for the final output\n",
        "def sigmoid(X):\n",
        "    return 1 / (1 + np.exp(-X))\n",
        "    "
      ],
      "execution_count": 3,
      "outputs": []
    },
    {
      "cell_type": "code",
      "metadata": {
        "id": "29x_dLTVzjlc"
      },
      "source": [
        "#Neuron activator\n",
        "def activator(neuron, inputs):\n",
        "  bias= 1\n",
        "  activation= 0\n",
        "  weights= neuron['weights']\n",
        "  for i in range(len(weights)):\n",
        "    activation += weights[i] * inputs[i]\n",
        "    #add the bias\n",
        "    return activation + bias"
      ],
      "execution_count": 4,
      "outputs": []
    },
    {
      "cell_type": "markdown",
      "metadata": {
        "id": "M7m5YzUxdDAZ"
      },
      "source": [
        "### Neural Network"
      ]
    },
    {
      "cell_type": "code",
      "metadata": {
        "id": "dFXctcmmC7l3"
      },
      "source": [
        "class NNetwork():\n",
        "\t\"\"\"\n",
        "\tFor each network object, we will have: \n",
        "\t\t- \"architecture\" as the distribution of the weights in different neurons of layers in the ANN.\n",
        "\t\t- \"position\" as the list version of the weights in the ANN.\n",
        "\t\"\"\"\n",
        "\tdef __init__(self, default_weights):\n",
        "\t\tself.position = []\n",
        "\t\tself.architecture = [] \n",
        "\t\tself.mse = float('inf')\n",
        "\t\tweights = default_weights.copy()\n",
        "\t\tarch = list()\n",
        "\t\n",
        "\t\t#The first layer takes values from the input\n",
        "\t\thidden_layer = [{'weights':[weights.pop(0) if len(weights) > 0 else random.random() for i in range(network_config['inputs'])]} \\\n",
        "\t\t                for i in range(network_config['hidden']['neurons'])]\n",
        "\t\tarch.append(hidden_layer)\n",
        "\t\t#add weights for each hidden layer, excluding the first one (already processed above)\n",
        "\t\tif network_config['hidden']['layers'] > 1:\n",
        "\t\t\tfor i in range(1, network_config['hidden']['layers']):\n",
        "\t\t\t\tlayer = [{'weights':[weights.pop(0) if len(weights) > 0 else random.random() for i in range(network_config['hidden']['neurons'])]} \\\n",
        "\t\t\t\t         for i in range(network_config['hidden']['neurons'])]\n",
        "\t\t\t\tarch.append(layer)\n",
        "\t\t#add weights to the output layer\n",
        "\t\toutput_layer = [{'weights':[weights.pop(0) if len(weights) > 0 else random.random() for i in range(network_config['hidden']['neurons'])]} \\\n",
        "\t\t                for i in range(network_config['outputs'])]\n",
        "\t\tarch.append(output_layer)\n",
        "\t\tself.architecture = arch\n",
        "\t\t\n",
        "\t\tif len(default_weights) > 0:\n",
        "\t\t\tself.position = default_weights.copy()\n",
        "\t\telse:\n",
        "\t\t for layer in self.architecture:\n",
        "\t\t\t for neuron in layer:\n",
        "\t\t\t\t for weight in neuron['weights']:\n",
        "\t\t\t\t\t self.position.append(weight)\n",
        "\t\t\t\n",
        "\n",
        "\tdef instance_forwarding(self, inputs):\n",
        "\t\tfor layer_index in range(len(self.architecture)):\n",
        "\t\t\toutputs=[]\n",
        "\t\t\tlayer= self.architecture[layer_index]\n",
        "\t\t\tfor neuron_index in range(len(layer)):\n",
        "\t\t\t\tneuron= layer[neuron_index]\n",
        "\t\t\t\tactivation = activator(neuron, inputs)\n",
        "\t\t\t\t#we use sigmoid for the activation functions,\n",
        "\t\t\t\tneuron['output'] = sigmoid(activation)\n",
        "\t\t\t\toutputs.append(neuron['output'])\n",
        "\t\t\tinputs = outputs\n",
        "\t\treturn inputs\n",
        "\t\n",
        "\tdef feed_forward(self):\n",
        "\t\tsquared_errors = 0\n",
        "\t\tfor i in range(len(X)):\n",
        "\t\t\tinput_Xi = []\n",
        "\t\t\tfor x in X[i]:\n",
        "\t\t\t\tif len(x) > 0:\n",
        "\t\t\t\t\tinput_Xi.append(float(x))\n",
        "\t\t\toutput_Yi = float(Y[i][0])\n",
        "\t \t\t#feed forwarding with each instance\n",
        "\t\t\toutput_yHat = self.instance_forwarding(input_Xi)\n",
        "\t\t\tif type(output_yHat) is list:\n",
        "\t\t\t\toutput_yHat = output_yHat[0]\n",
        "      #Calculate the mean squared error\n",
        "\t\t\tsquared_errors = np.square(np.subtract(output_Yi, output_yHat))\n",
        "\t\t\t#saving the mean squared error\n",
        "\t\t\tmse = squared_errors/len(X)\n",
        "\t\t\tself.mse = mse\n",
        "\t\t\t#print('mse: ', self.mse)\n",
        "\n",
        "\t\t"
      ],
      "execution_count": 5,
      "outputs": []
    },
    {
      "cell_type": "markdown",
      "metadata": {
        "id": "IGuwEpWg-VOe"
      },
      "source": [
        "### Particle"
      ]
    },
    {
      "cell_type": "code",
      "metadata": {
        "id": "3qN1iezH88G4"
      },
      "source": [
        "alpha = 0.5         # proportion of velocity \n",
        "beta = 0.3          # proportion of personal best \n",
        "gamma = 0.6         # proportion of the informants' best \n",
        "delta = 0.2         # proportion of global best \n",
        "epsilon = 0.5       # jump size of a particle\n",
        "\n",
        "#Particle\n",
        "class Particle():\n",
        "  def __init__(self, position, mse, p_index):\n",
        "    self.position = position\n",
        "    self.particle_best_position = self.position\n",
        "    self.particle_best_value = mse\n",
        "    self.fitness = mse\n",
        "    velocity = random.random()\n",
        "    self.velocity = [velocity for i in range(len(position))]\n",
        "    \n",
        "    #particle_index will be used as the current particle's simple reference in the search_space\n",
        "    #with this reference, we will be able to identify its informants (4 other particles)\n",
        "    self.particle_index = p_index\n",
        "    self.particle_informants_best_position = [float('inf') for i in range(len(self.position))]\n",
        "    self.particle_informants_best_value = float('inf')\n",
        "\n",
        "  def update_velocity(self, global_b_position):\n",
        "    b = random.uniform(0,beta)\n",
        "    c = random.uniform(0,gamma)\n",
        "    d = random.uniform(0,delta)\n",
        "    for i in range(len(self.position)):\n",
        "      self.velocity[i] = (alpha * self.velocity[i])+ \\\n",
        "      (b * (self.particle_best_position[i] - self.position[i]))+ \\\n",
        "      (c * (self.particle_informants_best_position[i] - self.position[i]))+ \\\n",
        "      (d * (global_b_position[i] - self.position[i]))\n",
        "      # #cognitive velocity\n",
        "      # cognitive_velocity = (c1*random_r1) * (self.particle_best_position[i] - self.position[i])\n",
        "      # #social velocity\n",
        "      # social_velocity = (c2*random_r2) * (global_b_position[i] - self.position[i])\n",
        "      # self.velocity[i] = (w*self.velocity[i]) + cognitive_velocity + social_velocity\n",
        "      \n",
        "      \n",
        "  def move_particle(self):\n",
        "    for i in range(len(self.position)):\n",
        "      #here we update the position of the particle \n",
        "      self.position[i] = self.position[i] + (epsilon * self.velocity[i])\n",
        "      #..we also need to update the fitness of the current particle as soon as possible\n",
        "\n",
        "  def set_fitness(self, mse):\n",
        "    self.fitness = mse\n",
        "    if self.fitness < self.particle_best_value:\n",
        "      self.particle_best_value = self.fitness\n",
        "      self.particle_best_position = self.position\n",
        "  \n",
        "  def set_informants_best(self, pso_particles):\n",
        "    \"\"\" \n",
        "      For each particle, we chose 4 closest(in indexes) ones as its informants.\n",
        "    \"\"\"\n",
        "    informants = [pso_particles[(self.particle_index-2)%len(pso_particles)], \\\n",
        "                  pso_particles[(self.particle_index-1)%len(pso_particles)], \\\n",
        "                  pso_particles[(self.particle_index+1)%len(pso_particles)], \\\n",
        "                  pso_particles[(self.particle_index+2)%len(pso_particles)]]\n",
        "    for informant in informants:\n",
        "      if informant.particle_best_value < self.particle_informants_best_value:\n",
        "        self.particle_informants_best_value = informant.particle_best_value\n",
        "        self.particle_informants_best_position = informant.particle_best_position\n",
        "    \n"
      ],
      "execution_count": 6,
      "outputs": []
    },
    {
      "cell_type": "markdown",
      "metadata": {
        "id": "ferYaro2hFH0"
      },
      "source": [
        "### Particle Swarm Optimisation"
      ]
    },
    {
      "cell_type": "code",
      "metadata": {
        "id": "2HL3Kf8ChLcF"
      },
      "source": [
        "#Search space\n",
        "class SearchSpace():\n",
        "  def __init__(self, particles):\n",
        "    self.global_best_value = float('inf')\n",
        "    self.global_best_position = []\n",
        "    self.particles = particles\n",
        "    \n",
        "  def set_global_best(self):\n",
        "      for particle in self.particles:\n",
        "        if particle.particle_best_value < self.global_best_value:\n",
        "            self.global_best_value = particle.particle_best_value\n",
        "            self.global_best_position = particle.particle_best_position\n"
      ],
      "execution_count": 7,
      "outputs": []
    },
    {
      "cell_type": "markdown",
      "metadata": {
        "id": "k8DR6FDGZZoE"
      },
      "source": [
        "### Operation"
      ]
    },
    {
      "cell_type": "code",
      "metadata": {
        "colab": {
          "base_uri": "https://localhost:8080/",
          "height": 1000
        },
        "id": "NVRm25dLRXAr",
        "outputId": "1a89f7ac-e0a2-49c8-83a4-8c1531e7acb1"
      },
      "source": [
        "#Operation\n",
        "\n",
        "network_number = 10\n",
        "networks = [NNetwork([]) for i in range(network_number)]\n",
        "\n",
        "#Feed the networks then calculate their fitness values (the result of the mean squared errors)\n",
        "for network in networks:\n",
        "  network.feed_forward()\n",
        "\n",
        "#Creating particles from fed_networks(the ones with our cost function: mse)\n",
        "particles = [Particle(networks[i].position, networks[i].mse, i) for i in range(len(networks))]\n",
        "\n",
        "#Adding the particles to a PSO\n",
        "search_space = SearchSpace(particles)\n",
        "\n",
        "iterations = 100\n",
        "final_output_x = []\n",
        "final_output_y = []\n",
        "\n",
        "for i in range(iterations):\n",
        "  #update the global best value using the freshly added particles in the search space\n",
        "  search_space.set_global_best()\n",
        "\n",
        "  #before we proceed to the particle update, we need to set its informants best first\n",
        "  #as this variable is used in the velocity update\n",
        "  for p in search_space.particles:\n",
        "    p.set_informants_best(search_space.particles)\n",
        "  \n",
        "  for p in range(len(search_space.particles)):\n",
        "    #we store the current particle inside a variable before making any change in it\n",
        "    particle = search_space.particles[p]\n",
        "    \n",
        "    #start updating the particle\n",
        "    particle.update_velocity(search_space.global_best_position)\n",
        "    particle.move_particle()\n",
        "\n",
        "    #update the network corresponding network with new weights(updated positions)\n",
        "    updated_network = NNetwork(particle.position)\n",
        "\n",
        "    #feedforward the updated network in order to get new mse value\n",
        "    updated_network.feed_forward()\n",
        "\n",
        "    #update the current/moved particle's fitness with the mse calculated above\n",
        "    #this will also updated the particle best value&position in case of need\n",
        "    particle.set_fitness(updated_network.mse)\n",
        "\n",
        "    #update the same particle in the search_space\n",
        "    #we use the index of this particle as its reference in the search_space\n",
        "    search_space.particles[p] = particle\n",
        "\n",
        "  #Update the values of informants best for each particle\n",
        "  for particle in search_space.particles:\n",
        "    particle.set_informants_best(search_space.particles)\n",
        "  \n",
        "  final_output_x.append(i)\n",
        "  final_output_y.append(updated_network.mse)\n",
        "  print(f\"{i}: GLOBAL_BEST_ERROR: {updated_network.mse}\")\n",
        "\n",
        "#Ploting\n",
        "plt.figure()\n",
        "plt.plot(final_output_x, final_output_y)\n",
        "plt.title(f\"Global best fitness values over {iterations} iterations\")\n",
        "plt.xlabel(\"Iterations\")\n",
        "plt.ylabel(\"Errors\")\n",
        "plt.show()\n",
        "\n",
        "best_ann = NNetwork(list(search_space.global_best_position)).architecture\n",
        "print(f\"Optimized ANN for {function_name} function: {best_ann}\")\n"
      ],
      "execution_count": 10,
      "outputs": [
        {
          "output_type": "stream",
          "text": [
            "0: GLOBAL_BEST_ERROR: 0.012568803942192158\n",
            "1: GLOBAL_BEST_ERROR: 0.01247782249031706\n",
            "2: GLOBAL_BEST_ERROR: 0.012376963339124374\n",
            "3: GLOBAL_BEST_ERROR: 0.012333290530087374\n",
            "4: GLOBAL_BEST_ERROR: 0.012327258203099737\n",
            "5: GLOBAL_BEST_ERROR: 0.012337265759678086\n",
            "6: GLOBAL_BEST_ERROR: 0.012345635927144152\n",
            "7: GLOBAL_BEST_ERROR: 0.012360648221348452\n",
            "8: GLOBAL_BEST_ERROR: 0.012370355777824532\n",
            "9: GLOBAL_BEST_ERROR: 0.012375270420182749\n",
            "10: GLOBAL_BEST_ERROR: 0.012377730008380636\n",
            "11: GLOBAL_BEST_ERROR: 0.012379244437841178\n",
            "12: GLOBAL_BEST_ERROR: 0.012381028516901909\n",
            "13: GLOBAL_BEST_ERROR: 0.01238528541487082\n",
            "14: GLOBAL_BEST_ERROR: 0.01239103501276366\n",
            "15: GLOBAL_BEST_ERROR: 0.012394214321193893\n",
            "16: GLOBAL_BEST_ERROR: 0.012395954047681946\n",
            "17: GLOBAL_BEST_ERROR: 0.012396587801810329\n",
            "18: GLOBAL_BEST_ERROR: 0.012396210150093156\n",
            "19: GLOBAL_BEST_ERROR: 0.01239549725421151\n",
            "20: GLOBAL_BEST_ERROR: 0.012394134513332537\n",
            "21: GLOBAL_BEST_ERROR: 0.012392564817874756\n",
            "22: GLOBAL_BEST_ERROR: 0.012391321591973658\n",
            "23: GLOBAL_BEST_ERROR: 0.012390631011678598\n",
            "24: GLOBAL_BEST_ERROR: 0.012390334239071099\n",
            "25: GLOBAL_BEST_ERROR: 0.012390226371214855\n",
            "26: GLOBAL_BEST_ERROR: 0.012390379426191351\n",
            "27: GLOBAL_BEST_ERROR: 0.012390572700649185\n",
            "28: GLOBAL_BEST_ERROR: 0.012390729288224994\n",
            "29: GLOBAL_BEST_ERROR: 0.012390870829891503\n",
            "30: GLOBAL_BEST_ERROR: 0.012390947360303252\n",
            "31: GLOBAL_BEST_ERROR: 0.012390973000779343\n",
            "32: GLOBAL_BEST_ERROR: 0.012390974880172758\n",
            "33: GLOBAL_BEST_ERROR: 0.012390956716838543\n",
            "34: GLOBAL_BEST_ERROR: 0.012390941934980425\n",
            "35: GLOBAL_BEST_ERROR: 0.012390922228029295\n",
            "36: GLOBAL_BEST_ERROR: 0.012390909516650306\n",
            "37: GLOBAL_BEST_ERROR: 0.012390901164945565\n",
            "38: GLOBAL_BEST_ERROR: 0.012390896739281725\n",
            "39: GLOBAL_BEST_ERROR: 0.012390895154227753\n",
            "40: GLOBAL_BEST_ERROR: 0.012390896085165965\n",
            "41: GLOBAL_BEST_ERROR: 0.012390896862497664\n",
            "42: GLOBAL_BEST_ERROR: 0.012390898394868724\n",
            "43: GLOBAL_BEST_ERROR: 0.012390899555942095\n",
            "44: GLOBAL_BEST_ERROR: 0.012390900170635686\n",
            "45: GLOBAL_BEST_ERROR: 0.012390900375810974\n",
            "46: GLOBAL_BEST_ERROR: 0.012390900357884801\n",
            "47: GLOBAL_BEST_ERROR: 0.012390900160540503\n",
            "48: GLOBAL_BEST_ERROR: 0.012390900028282519\n",
            "49: GLOBAL_BEST_ERROR: 0.012390899896809122\n",
            "50: GLOBAL_BEST_ERROR: 0.012390899807378102\n",
            "51: GLOBAL_BEST_ERROR: 0.012390899735942842\n",
            "52: GLOBAL_BEST_ERROR: 0.012390899689535472\n",
            "53: GLOBAL_BEST_ERROR: 0.01239089966799146\n",
            "54: GLOBAL_BEST_ERROR: 0.012390899666013387\n",
            "55: GLOBAL_BEST_ERROR: 0.012390899675518811\n",
            "56: GLOBAL_BEST_ERROR: 0.012390899682539145\n",
            "57: GLOBAL_BEST_ERROR: 0.012390899690189607\n",
            "58: GLOBAL_BEST_ERROR: 0.01239089969546193\n",
            "59: GLOBAL_BEST_ERROR: 0.012390899699777882\n",
            "60: GLOBAL_BEST_ERROR: 0.012390899702007838\n",
            "61: GLOBAL_BEST_ERROR: 0.012390899702705495\n",
            "62: GLOBAL_BEST_ERROR: 0.012390899702805103\n",
            "63: GLOBAL_BEST_ERROR: 0.012390899702635233\n",
            "64: GLOBAL_BEST_ERROR: 0.012390899702199374\n",
            "65: GLOBAL_BEST_ERROR: 0.01239089970145445\n",
            "66: GLOBAL_BEST_ERROR: 0.0123908997008611\n",
            "67: GLOBAL_BEST_ERROR: 0.012390899700416189\n",
            "68: GLOBAL_BEST_ERROR: 0.012390899700133517\n",
            "69: GLOBAL_BEST_ERROR: 0.012390899700003328\n",
            "70: GLOBAL_BEST_ERROR: 0.01239089969998831\n",
            "71: GLOBAL_BEST_ERROR: 0.012390899700039523\n",
            "72: GLOBAL_BEST_ERROR: 0.01239089970011053\n",
            "73: GLOBAL_BEST_ERROR: 0.012390899700151295\n",
            "74: GLOBAL_BEST_ERROR: 0.012390899700184059\n",
            "75: GLOBAL_BEST_ERROR: 0.012390899700208171\n",
            "76: GLOBAL_BEST_ERROR: 0.012390899700220307\n",
            "77: GLOBAL_BEST_ERROR: 0.012390899700225557\n",
            "78: GLOBAL_BEST_ERROR: 0.012390899700224129\n",
            "79: GLOBAL_BEST_ERROR: 0.01239089970022051\n",
            "80: GLOBAL_BEST_ERROR: 0.012390899700215069\n",
            "81: GLOBAL_BEST_ERROR: 0.012390899700210945\n",
            "82: GLOBAL_BEST_ERROR: 0.012390899700208497\n",
            "83: GLOBAL_BEST_ERROR: 0.012390899700207405\n",
            "84: GLOBAL_BEST_ERROR: 0.012390899700207065\n",
            "85: GLOBAL_BEST_ERROR: 0.012390899700207441\n",
            "86: GLOBAL_BEST_ERROR: 0.012390899700208171\n",
            "87: GLOBAL_BEST_ERROR: 0.012390899700208903\n",
            "88: GLOBAL_BEST_ERROR: 0.012390899700209393\n",
            "89: GLOBAL_BEST_ERROR: 0.01239089970020969\n",
            "90: GLOBAL_BEST_ERROR: 0.01239089970020986\n",
            "91: GLOBAL_BEST_ERROR: 0.012390899700209922\n",
            "92: GLOBAL_BEST_ERROR: 0.012390899700209892\n",
            "93: GLOBAL_BEST_ERROR: 0.012390899700209844\n",
            "94: GLOBAL_BEST_ERROR: 0.012390899700209788\n",
            "95: GLOBAL_BEST_ERROR: 0.012390899700209759\n",
            "96: GLOBAL_BEST_ERROR: 0.012390899700209743\n",
            "97: GLOBAL_BEST_ERROR: 0.012390899700209734\n",
            "98: GLOBAL_BEST_ERROR: 0.012390899700209734\n",
            "99: GLOBAL_BEST_ERROR: 0.012390899700209743\n"
          ],
          "name": "stdout"
        },
        {
          "output_type": "display_data",
          "data": {
            "image/png": "[encoded data removed]",
            "text/plain": [
              "<Figure size 432x288 with 1 Axes>"
            ]
          },
          "metadata": {
            "tags": [],
            "needs_background": "light"
          }
        },
        {
          "output_type": "stream",
          "text": [
            "Optimized ANN for Sine function: [[{'weights': [0.8635658357348607, 1.0078334850699249]}, {'weights': [0.9910377412193005, 0.8856299366061626]}, {'weights': [1.0273705067867247, 0.6879205629269483]}], [{'weights': [0.811184996008505, 0.5855286515018343, 1.210890343949745]}, {'weights': [1.1270750731126835, 0.8056913655873398, 1.069101014558592]}, {'weights': [1.3331790138283708, 0.4957130977182956, 1.115122897630412]}], [{'weights': [0.6663911688412968, 1.150570930500013, 0.5752575563733726]}, {'weights': [0.9743619769836556, 0.8920059000891908, 0.7812798863217574]}, {'weights': [1.0063598597229653, 1.0210883206670318, 1.168301859169469]}], [{'weights': [1.1697659350793663, 1.0951424778720664, 1.240170261300899]}, {'weights': [1.1353272081587595, 0.7569310837439602, 0.5483074666261539]}, {'weights': [0.9104479341873198, 0.5515299692816045, 1.3095571265647292]}], [{'weights': [0.9266118098619924, 0.8396457356900456, 1.1415710994336004]}, {'weights': [0.8667807835579554, 0.5401219652760294, 1.262793756959571]}, {'weights': [1.2155740351148867, 0.5146248763925222, 1.2221249836874035]}], [{'weights': [0.6799199704354423, 0.9558565075175817, 0.8526705084878795]}]]\n"
          ],
          "name": "stdout"
        }
      ]
    },
    {
      "cell_type": "code",
      "metadata": {
        "colab": {
          "base_uri": "https://localhost:8080/"
        },
        "id": "jyfRCfIo3iYG",
        "outputId": "92aa7de0-dc8d-4453-9156-e526c8adc91f"
      },
      "source": [
        "#Informants selections approach\n",
        "\"\"\" \n",
        "  THis is just the approach on how we selected the informants for each particle\n",
        "  For each particle, we chose 4 closest(in indexes) ones as its informants.\n",
        "\"\"\"\n",
        "number_nets = 10\n",
        "nets = ['Net_'+str(i) for i in range(number_nets)]\n",
        "for i in range(number_nets):\n",
        "  net = nets[i]\n",
        "  net_infs = [nets[(i-2)%number_nets], nets[(i-1)%number_nets], nets[(i+1)%number_nets], nets[(i+2)%number_nets]]\n",
        "  print(f\"Network:{net} | Informants: {net_infs}\")"
      ],
      "execution_count": 9,
      "outputs": [
        {
          "output_type": "stream",
          "text": [
            "Network:Net_0 | Informants: ['Net_8', 'Net_9', 'Net_1', 'Net_2']\n",
            "Network:Net_1 | Informants: ['Net_9', 'Net_0', 'Net_2', 'Net_3']\n",
            "Network:Net_2 | Informants: ['Net_0', 'Net_1', 'Net_3', 'Net_4']\n",
            "Network:Net_3 | Informants: ['Net_1', 'Net_2', 'Net_4', 'Net_5']\n",
            "Network:Net_4 | Informants: ['Net_2', 'Net_3', 'Net_5', 'Net_6']\n",
            "Network:Net_5 | Informants: ['Net_3', 'Net_4', 'Net_6', 'Net_7']\n",
            "Network:Net_6 | Informants: ['Net_4', 'Net_5', 'Net_7', 'Net_8']\n",
            "Network:Net_7 | Informants: ['Net_5', 'Net_6', 'Net_8', 'Net_9']\n",
            "Network:Net_8 | Informants: ['Net_6', 'Net_7', 'Net_9', 'Net_0']\n",
            "Network:Net_9 | Informants: ['Net_7', 'Net_8', 'Net_0', 'Net_1']\n"
          ],
          "name": "stdout"
        }
      ]
    }
  ]
}